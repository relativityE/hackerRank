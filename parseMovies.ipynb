{
  "nbformat": 4,
  "nbformat_minor": 0,
  "metadata": {
    "colab": {
      "name": "parseMovies.ipynb",
      "provenance": [],
      "authorship_tag": "ABX9TyOmvqxwgDU0QiIxSEPwNYRI",
      "include_colab_link": true
    },
    "kernelspec": {
      "name": "python3",
      "display_name": "Python 3"
    }
  },
  "cells": [
    {
      "cell_type": "markdown",
      "metadata": {
        "id": "view-in-github",
        "colab_type": "text"
      },
      "source": [
        "<a href=\"https://colab.research.google.com/github/relativityE/hackerRank/blob/main/parseMovies.ipynb\" target=\"_parent\"><img src=\"https://colab.research.google.com/assets/colab-badge.svg\" alt=\"Open In Colab\"/></a>"
      ]
    },
    {
      "cell_type": "code",
      "metadata": {
        "id": "kbgJ0NZg4JoY"
      },
      "source": [
        "#modules required\n",
        "import json\n",
        "import requests"
      ],
      "execution_count": 2,
      "outputs": []
    },
    {
      "cell_type": "code",
      "metadata": {
        "id": "8frqs0CI46F_"
      },
      "source": [
        "#set url to fetch initial data to get total_pages\n",
        "year = 2000\n",
        "url = \"https://jsonmock.hackerrank.com/api/movies?Year=\" + str(year) + \"&page=1\";\n",
        "print(\"url: \" + url)\n",
        "res = requests.get(url)\n",
        "to_python = json.loads(res.text)\n",
        "total_pages = to_python['total_pages']\n",
        "print(\"total_pages: \" + str(total_pages))"
      ],
      "execution_count": null,
      "outputs": []
    },
    {
      "cell_type": "code",
      "metadata": {
        "id": "8oIOlphe5TYN"
      },
      "source": [
        "dictPages = {}\n",
        "for page in range(1,total_pages+1):\n",
        "  url = \"https://jsonmock.hackerrank.com/api/movies?Year=\" + str(year) + \"&page=\" + str(page);\n",
        "  print(\"url: \" + url)\n",
        "  resp = requests.get(url)\n",
        "  #python object to json string\n",
        "  json_string = json.dumps(resp.json())\n",
        "  print(\"json_string: \" + json_string)\n",
        "  #json string to python dictionary object\n",
        "  dict_obj = json.loads(json_string)\n",
        "  dictPages[page] = dict_obj"
      ],
      "execution_count": null,
      "outputs": []
    },
    {
      "cell_type": "code",
      "metadata": {
        "colab": {
          "base_uri": "https://localhost:8080/"
        },
        "id": "g1DyrvH49Heb",
        "outputId": "cb61aab3-d40d-4ae0-f6da-ae80c8149906"
      },
      "source": [
        "#filter content\n",
        "\n",
        "current_count = 0\n",
        "for key in dictPages:\n",
        "  #print(\"check: key => \" + str(key) + \", value: \" + str(dictPages[key]))\n",
        "  for titles in range(0,dictPages[key]['per_page']):\n",
        "    current_count += 1\n",
        "    if current_count > dictPages[key]['total']:\n",
        "      #print (\"search complete\")\n",
        "      break\n",
        "    search = dictPages[key]['data'][titles]\n",
        "    if search['Title'].lower().startswith('harry'):\n",
        "      print(search['Title'])"
      ],
      "execution_count": 5,
      "outputs": [
        {
          "output_type": "stream",
          "text": [
            "Harry Saltzman: Showman\n",
            "Harry Hill: Birdstrike!\n",
            "Harry Connick, Jr.: Come by Me Japan Tour 2000\n",
            "Harry & Co\n"
          ],
          "name": "stdout"
        }
      ]
    }
  ]
}