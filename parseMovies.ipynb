{
  "nbformat": 4,
  "nbformat_minor": 0,
  "metadata": {
    "colab": {
      "name": "parseMovies.ipynb",
      "provenance": [],
      "authorship_tag": "ABX9TyOmvqxwgDU0QiIxSEPwNYRI",
      "include_colab_link": true
    },
    "kernelspec": {
      "name": "python3",
      "display_name": "Python 3"
    }
  },
  "cells": [
    {
      "cell_type": "markdown",
      "metadata": {
        "id": "view-in-github",
        "colab_type": "text"
      },
      "source": [
        "<a href=\"https://colab.research.google.com/github/relativityE/hackerRank/blob/main/parseMovies.ipynb\" target=\"_parent\"><img src=\"https://colab.research.google.com/assets/colab-badge.svg\" alt=\"Open In Colab\"/></a>"
      ]
    },
    {
      "cell_type": "code",
      "metadata": {
        "id": "kbgJ0NZg4JoY"
      },
      "source": [
        "#modules required\n",
        "import json\n",
        "import requests"
      ],
      "execution_count": 27,
      "outputs": []
    },
    {
      "cell_type": "code",
      "metadata": {
        "colab": {
          "base_uri": "https://localhost:8080/"
        },
        "id": "8frqs0CI46F_",
        "outputId": "d0b22e25-0f69-4c8f-c647-0e489c889407"
      },
      "source": [
        "#set url to fetch initial data to get total_pages\n",
        "year = 2000\n",
        "url = \"https://jsonmock.hackerrank.com/api/movies?Year=\" + str(year) + \"&page=1\";\n",
        "print(\"url: \" + url)\n",
        "res = requests.get(url)\n",
        "to_python = json.loads(res.text)\n",
        "total_pages = to_python['total_pages']\n",
        "print(\"total_pages: \" + str(total_pages))"
      ],
      "execution_count": 28,
      "outputs": [
        {
          "output_type": "stream",
          "text": [
            "url: https://jsonmock.hackerrank.com/api/movies?Year=2000&page=1\n",
            "total_pages: 5\n"
          ],
          "name": "stdout"
        }
      ]
    },
    {
      "cell_type": "code",
      "metadata": {
        "colab": {
          "base_uri": "https://localhost:8080/"
        },
        "id": "8oIOlphe5TYN",
        "outputId": "c4764031-a367-41ae-b313-f18b4f3f2c6e"
      },
      "source": [
        "dictPages = {}\n",
        "for page in range(1,total_pages+1):\n",
        "  url = \"https://jsonmock.hackerrank.com/api/movies?Year=\" + str(year) + \"&page=\" + str(page);\n",
        "  print(\"url: \" + url)\n",
        "  resp = requests.get(url)\n",
        "  #python object to json string\n",
        "  json_string = json.dumps(resp.json())\n",
        "  print(\"json_string: \" + json_string)\n",
        "  #json string to python dictionary object\n",
        "  dict_obj = json.loads(json_string)\n",
        "  dictPages[page] = dict_obj"
      ],
      "execution_count": 29,
      "outputs": [
        {
          "output_type": "stream",
          "text": [
            "url: https://jsonmock.hackerrank.com/api/movies?Year=2000&page=1\n",
            "json_string: {\"page\": \"1\", \"per_page\": 10, \"total\": 47, \"total_pages\": 5, \"data\": [{\"Title\": \"Maze\", \"Year\": 2000, \"imdbID\": \"tt0246072\"}, {\"Title\": \"Ms. Pac-Man Maze Madness\", \"Year\": 2000, \"imdbID\": \"tt0269576\"}, {\"Title\": \"With a Friend Like Harry...\", \"Year\": 2000, \"imdbID\": \"tt0216800\"}, {\"Title\": \"Wild About Harry\", \"Year\": 2000, \"imdbID\": \"tt0216279\"}, {\"Title\": \"Harry Saltzman: Showman\", \"Year\": 2000, \"imdbID\": \"tt0322503\"}, {\"Title\": \"The Magical World of Harry Potter: The Unauthorized Story of J.K. Rowling\", \"Year\": 2000, \"imdbID\": \"tt0308533\"}, {\"Title\": \"Harry Hill: Birdstrike!\", \"Year\": 2000, \"imdbID\": \"tt0335588\"}, {\"Title\": \"Harry Connick, Jr.: Come by Me Japan Tour 2000\", \"Year\": 2000, \"imdbID\": \"tt3269234\"}, {\"Title\": \"Sci-Fi Harry\", \"Year\": 2000, \"imdbID\": \"tt3337196\"}, {\"Title\": \"An Evening with Harry Belafonte\", \"Year\": 2000, \"imdbID\": \"tt2182090\"}]}\n",
            "url: https://jsonmock.hackerrank.com/api/movies?Year=2000&page=2\n",
            "json_string: {\"page\": \"2\", \"per_page\": 10, \"total\": 47, \"total_pages\": 5, \"data\": [{\"Title\": \"Harry & Co\", \"Year\": 2000, \"imdbID\": \"tt0311264\"}, {\"Title\": \"Huge Harry and the Institute of Artificial Art\", \"Year\": 2000, \"imdbID\": \"tt0353540\"}, {\"Title\": \"A Portrait of Harry\", \"Year\": 2000, \"imdbID\": \"tt0996493\"}, {\"Title\": \"Mad About Harry\", \"Year\": 2000, \"imdbID\": \"tt0808360\"}, {\"Title\": \"Sin: The Movie\", \"Year\": 2000, \"imdbID\": \"tt0253709\"}, {\"Title\": \"Sin Cities\", \"Year\": 2000, \"imdbID\": \"tt0846761\"}, {\"Title\": \"Tatin sin\", \"Year\": 2000, \"imdbID\": \"tt0289521\"}, {\"Title\": \"Sin\", \"Year\": 2000, \"imdbID\": \"tt0265754\"}, {\"Title\": \"Sin reserva\", \"Year\": 2000, \"imdbID\": \"tt0271789\"}, {\"Title\": \"Original Sin\", \"Year\": 2000, \"imdbID\": \"tt0323521\"}]}\n",
            "url: https://jsonmock.hackerrank.com/api/movies?Year=2000&page=3\n",
            "json_string: {\"page\": \"3\", \"per_page\": 10, \"total\": 47, \"total_pages\": 5, \"data\": [{\"Title\": \"Amsterdam: City of Sin\", \"Year\": 2000, \"imdbID\": \"tt2156082\"}, {\"Title\": \"Sin's of a Father\", \"Year\": 2000, \"imdbID\": \"tt1813611\"}, {\"Title\": \"Behind the Scenes of 'Sin the Movie'\", \"Year\": 2000, \"imdbID\": \"tt4663740\"}, {\"Title\": \"Daughter of Sin\", \"Year\": 2000, \"imdbID\": \"tt0244480\"}, {\"Title\": \"Pure Sin\", \"Year\": 2000, \"imdbID\": \"tt0261212\"}, {\"Title\": \"Gallery of Sin 2\", \"Year\": 2000, \"imdbID\": \"tt0266569\"}, {\"Title\": \"The Wages of Sin\", \"Year\": 2000, \"imdbID\": \"tt0180297\"}, {\"Title\": \"Barrio sin ley\", \"Year\": 2000, \"imdbID\": \"tt0381033\"}, {\"Title\": \"Nouvelle vague: el cine sin dogmas\", \"Year\": 2000, \"imdbID\": \"tt0282030\"}, {\"Title\": \"Deadly Sin\", \"Year\": 2000, \"imdbID\": \"tt0308156\"}]}\n",
            "url: https://jsonmock.hackerrank.com/api/movies?Year=2000&page=4\n",
            "json_string: {\"page\": \"4\", \"per_page\": 10, \"total\": 47, \"total_pages\": 5, \"data\": [{\"Title\": \"Codicia sin l\\u00edmite\", \"Year\": 2000, \"imdbID\": \"tt0330159\"}, {\"Title\": \"Ni contigo ni sin ti\", \"Year\": 2000, \"imdbID\": \"tt0828572\"}, {\"Title\": \"Sin receta\", \"Year\": 2000, \"imdbID\": \"tt0483162\"}, {\"Title\": \"Sin memoria\", \"Year\": 2000, \"imdbID\": \"tt0484769\"}, {\"Title\": \"Sin t\\u00edtulo\", \"Year\": 2000, \"imdbID\": \"tt0484770\"}, {\"Title\": \"La milpa sin quema: El cultivo sin callej\\u00f3n\", \"Year\": 2000, \"imdbID\": \"tt0457065\"}, {\"Title\": \"Un mundo sin sol\", \"Year\": 2000, \"imdbID\": \"tt0457073\"}, {\"Title\": \"Walk the Talk\", \"Year\": 2000, \"imdbID\": \"tt0221691\"}, {\"Title\": \"The Walk\", \"Year\": 2000, \"imdbID\": \"tt0237552\"}, {\"Title\": \"A Walk in the Night\", \"Year\": 2000, \"imdbID\": \"tt0227765\"}]}\n",
            "url: https://jsonmock.hackerrank.com/api/movies?Year=2000&page=5\n",
            "json_string: {\"page\": \"5\", \"per_page\": 10, \"total\": 47, \"total_pages\": 5, \"data\": [{\"Title\": \"A Walk in Your Shoes\", \"Year\": 2000, \"imdbID\": \"tt1179001\"}, {\"Title\": \"A Walk Through Neoclassical Athens\", \"Year\": 2000, \"imdbID\": \"tt0376974\"}, {\"Title\": \"Walk with Me\", \"Year\": 2000, \"imdbID\": \"tt0346442\"}, {\"Title\": \"Walk II\", \"Year\": 2000, \"imdbID\": \"tt0307646\"}, {\"Title\": \"They Walk Among Us\", \"Year\": 2000, \"imdbID\": \"tt0187697\"}, {\"Title\": \"Dream Walk\", \"Year\": 2000, \"imdbID\": \"tt1841574\"}, {\"Title\": \"Morning Walk\", \"Year\": 2000, \"imdbID\": \"tt4572532\"}]}\n"
          ],
          "name": "stdout"
        }
      ]
    },
    {
      "cell_type": "code",
      "metadata": {
        "colab": {
          "base_uri": "https://localhost:8080/"
        },
        "id": "g1DyrvH49Heb",
        "outputId": "27119458-bde6-4c77-93df-2dff52b6f06a"
      },
      "source": [
        "#filter content\n",
        "\n",
        "current_count = 0\n",
        "for key in dictPages:\n",
        "  #print(\"check: key => \" + str(key) + \", value: \" + str(dictPages[key]))\n",
        "  for titles in range(0,dictPages[key]['per_page']):\n",
        "    current_count += 1\n",
        "    if current_count > dictPages[key]['total']:\n",
        "      #print (\"search complete\")\n",
        "      break\n",
        "    search = dictPages[key]['data'][titles]\n",
        "    if search['Title'].lower().startswith('harry'):\n",
        "      print(search['Title'])"
      ],
      "execution_count": 30,
      "outputs": [
        {
          "output_type": "stream",
          "text": [
            "Harry Saltzman: Showman\n",
            "Harry Hill: Birdstrike!\n",
            "Harry Connick, Jr.: Come by Me Japan Tour 2000\n",
            "Harry & Co\n"
          ],
          "name": "stdout"
        }
      ]
    }
  ]
}