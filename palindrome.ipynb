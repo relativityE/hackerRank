{
  "nbformat": 4,
  "nbformat_minor": 0,
  "metadata": {
    "colab": {
      "name": "palindrome.ipynb",
      "provenance": [],
      "authorship_tag": "ABX9TyP5kT+aMHA4P2y73SPDbdue",
      "include_colab_link": true
    },
    "kernelspec": {
      "name": "python3",
      "display_name": "Python 3"
    }
  },
  "cells": [
    {
      "cell_type": "markdown",
      "metadata": {
        "id": "view-in-github",
        "colab_type": "text"
      },
      "source": [
        "<a href=\"https://colab.research.google.com/github/relativityE/hackerRank/blob/main/palindrome.ipynb\" target=\"_parent\"><img src=\"https://colab.research.google.com/assets/colab-badge.svg\" alt=\"Open In Colab\"/></a>"
      ]
    },
    {
      "cell_type": "code",
      "metadata": {
        "id": "PtyhbjPPRelQ"
      },
      "source": [
        "# test if word or phrase is a palindrome"
      ],
      "execution_count": null,
      "outputs": []
    },
    {
      "cell_type": "code",
      "metadata": {
        "id": "ayRDSFPBRo8Q"
      },
      "source": [
        "\n",
        "def isPalindrome(word, s, e):\n",
        "    #print(\"input: \" + word[s].lower() + '-' + word[e].lower())\n",
        "        \n",
        "    \"\"\" one character \"\"\"\n",
        "    if s == e:\n",
        "        print (\"\\nsingle palindrome => \" + word[s])\n",
        "        return True\n",
        "    \n",
        "    #end if first/last don't match\n",
        "    if(word[s].lower() != word[e].lower()):\n",
        "        return False\n",
        "\n",
        "    #work on remaining, check for end condition\n",
        "    if(s < e):        \n",
        "        #print(word[s].lower() + '-' + word[e].lower())\n",
        "        return  isPalindrome(word, s+1, e-1)\n",
        "        \n",
        "    return True\n",
        "\n",
        "wordList = [\"\", \"Never odd or even\", \"tattarrattat\", \"neon\", \"ele\"]\n",
        "for a in wordList:\n",
        "    aa = a.replace(\" \", \"\") #if space, strip\n",
        "    #print('\\n' + aa)\n",
        "    n = len(aa)\n",
        "    \n",
        "    if(n == 0):\n",
        "            print(\"\\npalindrome {} is: \" + str(True))\n",
        "    else:\n",
        "        #print(\"string length: \" + str(n))\n",
        "        print(\"\\npalindrome: \" + str(aa) + \" is \" + str(isPalindrome(aa, 0, n-1)))"
      ],
      "execution_count": null,
      "outputs": []
    }
  ]
}