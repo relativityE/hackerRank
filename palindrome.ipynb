{
  "nbformat": 4,
  "nbformat_minor": 0,
  "metadata": {
    "colab": {
      "name": "palindrome.ipynb",
      "provenance": [],
      "authorship_tag": "ABX9TyN2iQvH/hdsxofR3MjvxMKa",
      "include_colab_link": true
    },
    "kernelspec": {
      "name": "python3",
      "display_name": "Python 3"
    }
  },
  "cells": [
    {
      "cell_type": "markdown",
      "metadata": {
        "id": "view-in-github",
        "colab_type": "text"
      },
      "source": [
        "<a href=\"https://colab.research.google.com/github/relativityE/hackerRank/blob/main/palindrome.ipynb\" target=\"_parent\"><img src=\"https://colab.research.google.com/assets/colab-badge.svg\" alt=\"Open In Colab\"/></a>"
      ]
    },
    {
      "cell_type": "code",
      "metadata": {
        "id": "PtyhbjPPRelQ"
      },
      "source": [
        "# test if word or phrase is a palindrome"
      ],
      "execution_count": null,
      "outputs": []
    },
    {
      "cell_type": "code",
      "metadata": {
        "colab": {
          "base_uri": "https://localhost:8080/"
        },
        "id": "ayRDSFPBRo8Q",
        "outputId": "aa3c6da2-f6ee-458f-ed6a-b73b01125e33"
      },
      "source": [
        "\n",
        "def isPalindrome(word, s, e):\n",
        "    #print(\"input: \" + word[s].lower() + '-' + word[e].lower())\n",
        "        \n",
        "    \"\"\" base case \"\"\"\n",
        "    if s == e:\n",
        "        print (\"single letter palindrome: \" + word)\n",
        "        return True\n",
        "    \n",
        "    #end if first/last don't match\n",
        "    if(word[s].lower() != word[e].lower()):\n",
        "        return False\n",
        "\n",
        "    \n",
        "    #work on remaining, check for end condition\n",
        "    if(s < e):        \n",
        "        #print(word[s].lower() + '-' + word[e].lower())\n",
        "        return  isPalindrome(word, s+1, e-1)\n",
        "        \n",
        "\n",
        "    return True\n",
        "\n",
        "wordList = [\"Never odd or even\", \"tattarrattat\", \"neon\"]\n",
        "for a in wordList:\n",
        "    aa = a.replace(\" \", \"\") #if space, strip\n",
        "    print('\\n' + aa)\n",
        "    n = len(aa)\n",
        "    print(\"string length: \" + str(n))\n",
        "    print(\"\\npalindrome: \" + str(aa) + \" is \" + str(isPalindrome(aa, 0, n-1)))"
      ],
      "execution_count": 3,
      "outputs": [
        {
          "output_type": "stream",
          "text": [
            "\n",
            "Neveroddoreven\n",
            "string length: 14\n",
            "\n",
            "palindrome: Neveroddoreven is True\n",
            "\n",
            "tattarrattat\n",
            "string length: 12\n",
            "\n",
            "palindrome: tattarrattat is True\n",
            "\n",
            "neon\n",
            "string length: 4\n",
            "\n",
            "palindrome: neon is False\n"
          ],
          "name": "stdout"
        }
      ]
    }
  ]
}