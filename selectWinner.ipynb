{
  "nbformat": 4,
  "nbformat_minor": 0,
  "metadata": {
    "colab": {
      "name": "selectWinner.ipynb",
      "provenance": [],
      "authorship_tag": "ABX9TyNnQ8O7RAVloDhNZcMOi92N",
      "include_colab_link": true
    },
    "kernelspec": {
      "name": "python3",
      "display_name": "Python 3"
    }
  },
  "cells": [
    {
      "cell_type": "markdown",
      "metadata": {
        "id": "view-in-github",
        "colab_type": "text"
      },
      "source": [
        "<a href=\"https://colab.research.google.com/github/relativityE/hackerRank/blob/main/selectWinner.ipynb\" target=\"_parent\"><img src=\"https://colab.research.google.com/assets/colab-badge.svg\" alt=\"Open In Colab\"/></a>"
      ]
    },
    {
      "cell_type": "code",
      "metadata": {
        "id": "zbNOmXgf43HJ"
      },
      "source": [
        "#select winner from 3 player based on number of pigs and cows they found\n",
        "#assigns a value of 3,2,1 in that order from most animals to least in each\n",
        "#category\n",
        "\n",
        "class Player:\n",
        "  def __init__(self, name, cow, pig):\n",
        "    self.name = name\n",
        "    self.cow = cow\n",
        "    self.pig = pig\n",
        "    self.total = 0\n",
        "  \n",
        "  def __repr__(self):\n",
        "    return \"name:{} cow:{} pig:{} total:{}\".format(self.name,self.cow,self.pig,self.total)\n",
        "\n",
        "def cowSort(e):\n",
        "  return e.cow\n",
        "\n",
        "def pigSort(e):\n",
        "  return e.pig\n",
        "\n",
        "def winSort(e):\n",
        "  return e.total\n",
        "\n",
        "mike = Player('mike',4,3)\n",
        "alex = Player('alex',5,1)\n",
        "tess = Player('tess',3,2)\n",
        "\n",
        "playerlist = [mike, alex, tess]\n",
        "sortedcow = sorted(playerlist, key=cowSort, reverse=True)\n",
        "sortedpig = sorted(playerlist, key=pigSort, reverse=True)\n",
        "#print(sortedcow)\n",
        "#print(sortedpig)\n",
        "#print(range(len(sortedcow)))\n",
        "\n",
        "for i in range(len(sortedcow)):\n",
        "  sortedcow[i].total = 3-i\n",
        "\n",
        "#print(sortedcow)\n",
        "\n",
        "for i in range(len(sortedpig)):\n",
        "  sortedpig[i].total += 3-i\n",
        "\n",
        "#print(sortedpig)\n",
        "winnerList = sorted(sortedpig, key=winSort, reverse=True)\n",
        "\n",
        "print(winnerList[0].name)\n",
        "\n"
      ],
      "execution_count": null,
      "outputs": []
    }
  ]
}